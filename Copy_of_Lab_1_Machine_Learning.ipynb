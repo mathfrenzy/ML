{
  "cells": [
    {
      "cell_type": "markdown",
      "metadata": {
        "id": "view-in-github",
        "colab_type": "text"
      },
      "source": [
        "<a href=\"https://colab.research.google.com/github/mathfrenzy/ML/blob/main/Copy_of_Lab_1_Machine_Learning.ipynb\" target=\"_parent\"><img src=\"https://colab.research.google.com/assets/colab-badge.svg\" alt=\"Open In Colab\"/></a>"
      ]
    },
    {
      "cell_type": "markdown",
      "metadata": {
        "id": "i_xgSGjETc-i"
      },
      "source": [
        "**Note: Make a copy of this and edit !!!**"
      ]
    },
    {
      "cell_type": "markdown",
      "metadata": {
        "id": "s1nNNNOt3TtI"
      },
      "source": [
        "##LAB 1 - Getting familiar with NumPy\n",
        "Student Name:\n",
        "<br>\n",
        "Student ID:"
      ]
    },
    {
      "cell_type": "code",
      "execution_count": 2,
      "metadata": {
        "id": "apSCk0dNvyNy"
      },
      "outputs": [],
      "source": [
        "#Importing relevant libraries\n",
        "import numpy as np"
      ]
    },
    {
      "cell_type": "markdown",
      "metadata": {
        "id": "GHcWdno3wG6W"
      },
      "source": [
        "Please refer to numpy documentation for help. Avoid using other sources (Chat GPT). Getting familiar with numpy is an essential skill for machine learning <br>\n",
        "https://numpy.org/devdocs/user/absolute_beginners.html <br>\n",
        "https://numpy.org/devdocs/reference/index.html#reference\n",
        "\n"
      ]
    },
    {
      "cell_type": "markdown",
      "metadata": {
        "id": "XF3DgKk23hSy"
      },
      "source": [
        "#Part 1\n",
        "Constructing numpy arrays\n",
        "\n",
        "IMPORTANT:<br>\n",
        "*   DO NOT USE LOOPS UNLESS SPECIFIED\n",
        "*   USE NUMPY METHODS TO ANSWER THE QUESTIONS\n",
        "\n"
      ]
    },
    {
      "cell_type": "markdown",
      "metadata": {
        "id": "eehONU-9xVgP"
      },
      "source": [
        "**Question 1: Creating Arrays**\n",
        "<br><br>\n",
        "a$)$ Create and store a 1-D numpy array with the elements 1, 2, 3, 4 and print its shape\n",
        "<br> <br>\n",
        "b$)$ Create and store two other 1-D arrays, one with all ones and the other with all zeros. Make sure the size is the same as part a. Make sure to print the arrays and their shape.\n",
        "<br> <br>\n",
        "c$)$ Create a 1D numpy array with even numbers from 0 to 18 (Don't hard code this! use a numpy function and include 0 and 18 in the array). Make sure to print this array and its shape.\n",
        "<br> <br>\n"
      ]
    },
    {
      "cell_type": "code",
      "execution_count": 16,
      "metadata": {
        "id": "SgJ-aA4yeM8v",
        "colab": {
          "base_uri": "https://localhost:8080/"
        },
        "outputId": "83393173-0d47-4cb3-82a0-e1f306a956ee"
      },
      "outputs": [
        {
          "output_type": "stream",
          "name": "stdout",
          "text": [
            "[1 2 3 4]\n",
            "(4,)\n",
            "[1. 1. 1. 1.]\n",
            "(4,)\n",
            "[0. 0. 0. 0.]\n",
            "(4,)\n",
            "[ 0  2  4  6  8 10 12 14 16 18]\n"
          ]
        }
      ],
      "source": [
        "a = np.arange(4) + 1\n",
        "print(a)\n",
        "print(a.shape)\n",
        "\n",
        "b = np.ones(4)\n",
        "c = np.zeros(4)\n",
        "print(b)\n",
        "print(b.shape)\n",
        "print(c)\n",
        "print(c.shape)\n",
        "\n",
        "d = np.arange(0, 19, 2)\n",
        "print(d)\n",
        "\n",
        "\n"
      ]
    },
    {
      "cell_type": "markdown",
      "metadata": {
        "id": "lVHjfQKqWdG4"
      },
      "source": [
        "**Question 2: Manipulating arrays**\n",
        "\n",
        "a) Create a 2-D array with 1 to 19 (Similar to part c) but this time reshape the array with 2 rows and 5 columns. Make sure to print this array and its shape\n",
        "<br><br>\n",
        "b) From the array you created in the first part, select the 1, 3, and 5th column store that in a new array and store the 2nd and 4th column in another array. Print both these arrays and their shape (Remember NO LOOPS and use array slicing to this question)\n",
        "<br><br>\n",
        "c) Create a boolean array where values are True if the corresponding element in the 2D array from part a is greater than 5, and False otherwise.\n",
        "<br><br>\n",
        "\n",
        "d) Create an array of size 10 with any value and print a new array where each element is replaced by its square root."
      ]
    },
    {
      "cell_type": "code",
      "execution_count": 25,
      "metadata": {
        "id": "4swFJcdteOEC",
        "colab": {
          "base_uri": "https://localhost:8080/"
        },
        "outputId": "f339ce72-f3ea-41cb-ffb4-b20992721bcb"
      },
      "outputs": [
        {
          "output_type": "stream",
          "name": "stdout",
          "text": [
            "[[ 1  3  5  7  9]\n",
            " [11 13 15 17 19]]\n",
            "(2, 5)\n",
            "[[ 1  5  9]\n",
            " [11 15 19]]\n",
            "(2, 3)\n",
            "[[ 3  7]\n",
            " [13 17]]\n",
            "(2, 2)\n",
            "[[False False False  True  True]\n",
            " [ True  True  True  True  True]]\n",
            "[  1   4   9  16  25  36  49  64  81 100]\n",
            "[ 1.  2.  3.  4.  5.  6.  7.  8.  9. 10.]\n"
          ]
        }
      ],
      "source": [
        "e = np.arange(1, 20, 2)\n",
        "e = e.reshape(2, 5)\n",
        "print(e)\n",
        "print(e.shape)\n",
        "\n",
        "temp = np.hsplit(e, 5)\n",
        "f = np.hstack((temp[0], temp[2], temp[4]))\n",
        "g = np.hstack((temp[1], temp[3]))\n",
        "print(f)\n",
        "print(f.shape)\n",
        "print(g)\n",
        "print(g.shape)\n",
        "\n",
        "bool = e > 5\n",
        "print(bool)\n",
        "\n",
        "h = np.array([1, 4, 9, 16, 25, 36, 49, 64, 81, 100])\n",
        "print(h)\n",
        "i = np.sqrt(h)\n",
        "print(i)"
      ]
    },
    {
      "cell_type": "markdown",
      "metadata": {
        "id": "WcziGJf8ccJ9"
      },
      "source": [
        "**Question 3: Operating arrays** <br><br>\n",
        "a) Create 2 arrays, 1-D array ranging from 1 to 10 (inclusive), 2-D array 10 to 1 (inclusive) and add them element wise (Remember NO LOOPS). Print the resulting array and its shape\n",
        "<br><br>\n",
        "b) Create an array  -3 to 6 (inclusive) and do the dot product from the resulting array from part a. (Manipulate the the array shapes so the dot product works and make sure the resulting array is a scalar). Print the resulting value.\n",
        "<br><br>\n",
        "c) Generate a 3x3 array with random values between 0 and 1 using numpy's random module and take the inverse of the matrix and element wise multiply the resulting array by 10. Print the resulting array and its shape."
      ]
    },
    {
      "cell_type": "code",
      "execution_count": 48,
      "metadata": {
        "id": "YVU5JEUQdmrf",
        "colab": {
          "base_uri": "https://localhost:8080/"
        },
        "outputId": "25148cbd-50f6-4d37-8a11-cbdffe0ea098"
      },
      "outputs": [
        {
          "output_type": "stream",
          "name": "stdout",
          "text": [
            "[11 11 11 11 11 11 11 11 11 11]\n",
            "(10,)\n",
            "165\n",
            "[[ 33.38194906 -23.59034467 -12.97891442]\n",
            " [  9.43714535  13.21616591  -8.55490347]\n",
            " [-51.45137746  34.01323962  42.19707957]]\n",
            "(3, 3)\n"
          ]
        }
      ],
      "source": [
        "j = np.arange(10) + 1\n",
        "k = np.arange(10, 5, -1)\n",
        "l = np.arange(5, 0, -1)\n",
        "m = np.vstack((k, l))\n",
        "n = j + m.flatten()\n",
        "print(n)\n",
        "print(n.shape)\n",
        "\n",
        "p = np.arange(-3, 7, 1)\n",
        "q = n.dot(p)\n",
        "print(q)\n",
        "\n",
        "r = np.random.default_rng().random((3, 3))\n",
        "r = np.linalg.inv(r)\n",
        "r = r * 10\n",
        "print(r)\n",
        "print(r.shape)"
      ]
    },
    {
      "cell_type": "markdown",
      "metadata": {
        "id": "nq1lkD2vgpNn"
      },
      "source": [
        "**Challenge Questions** <br> <br>\n",
        "a) Create a 3D numpy array of shape 4x4x4 with random values. Perform the following operations: <br> <br>\n",
        "Replace all values greater than the mean of the entire array with 1.\n",
        "Replace all values less than the mean of each individual 2D array along the third dimension with 0.\n",
        "<br><br>\n",
        "b) Generate a 3D array with dimensions (3, 5, 4) containing random integers. Extract a 2D array by taking the sum along the third dimension."
      ]
    },
    {
      "cell_type": "code",
      "execution_count": 52,
      "metadata": {
        "id": "w14nJs2rhu30",
        "colab": {
          "base_uri": "https://localhost:8080/"
        },
        "outputId": "76e73b20-8d43-447c-dc86-dbca148524ab"
      },
      "outputs": [
        {
          "output_type": "stream",
          "name": "stdout",
          "text": [
            "[[[9 8 1 3]\n",
            "  [1 1 3 5]\n",
            "  [2 2 4 1]\n",
            "  [5 5 2 6]]\n",
            "\n",
            " [[1 4 7 0]\n",
            "  [4 8 1 2]\n",
            "  [0 8 9 5]\n",
            "  [8 1 9 3]]\n",
            "\n",
            " [[3 3 8 3]\n",
            "  [7 9 4 4]\n",
            "  [8 6 0 1]\n",
            "  [2 8 6 4]]\n",
            "\n",
            " [[3 8 7 5]\n",
            "  [7 7 3 1]\n",
            "  [4 9 7 6]\n",
            "  [0 8 9 6]]]\n",
            "[[[0 0 0 0]\n",
            "  [0 0 0 0]\n",
            "  [0 0 4 0]\n",
            "  [0 0 0 0]]\n",
            "\n",
            " [[0 0 0 0]\n",
            "  [0 0 0 0]\n",
            "  [0 0 0 0]\n",
            "  [0 0 0 0]]\n",
            "\n",
            " [[0 0 0 0]\n",
            "  [0 0 0 0]\n",
            "  [0 0 0 0]\n",
            "  [0 0 0 0]]\n",
            "\n",
            " [[0 0 0 0]\n",
            "  [0 0 0 0]\n",
            "  [0 0 0 0]\n",
            "  [0 0 0 0]]]\n",
            "[[[5 3 5 3]\n",
            "  [5 4 3 7]\n",
            "  [4 1 1 1]\n",
            "  [0 7 1 5]\n",
            "  [3 3 0 2]]\n",
            "\n",
            " [[5 2 4 2]\n",
            "  [7 2 1 2]\n",
            "  [3 1 8 3]\n",
            "  [1 7 9 8]\n",
            "  [8 9 5 6]]\n",
            "\n",
            " [[5 3 4 8]\n",
            "  [5 7 3 3]\n",
            "  [5 3 0 1]\n",
            "  [1 0 8 3]\n",
            "  [1 3 3 0]]]\n",
            "[[15  8 13 13]\n",
            " [17 13  7 12]\n",
            " [12  5  9  5]\n",
            " [ 2 14 18 16]\n",
            " [12 15  8  8]]\n"
          ]
        }
      ],
      "source": [
        "s = np.random.default_rng().integers(10, size=(4, 4, 4))\n",
        "print(s)\n",
        "t = s.mean()\n",
        "for x in range(len(s)):\n",
        "  u = s[x].mean()\n",
        "  for y in range(len(s[0])):\n",
        "    for z in range(len(s[0][0])):\n",
        "      if s[x][y][z] > t:\n",
        "        s[x][y][z] = 1\n",
        "      if s[x][y][z] < u:\n",
        "        s[x][y][z] = 0\n",
        "print(s)\n",
        "\n",
        "v = np.random.default_rng().integers(10, size=(3, 5, 4))\n",
        "print(v)\n",
        "w = v[0] + v[1] + v[2]\n",
        "print(w)\n"
      ]
    },
    {
      "cell_type": "markdown",
      "metadata": {
        "id": "84sJKdKfAodr"
      },
      "source": [
        "#Part 2\n",
        "Linear Regression\n",
        "\n",
        "IMPORTANT:<br>\n",
        "*   DO NOT USE LOOPS UNLESS SPECIFIED\n",
        "*   USE NUMPY METHODS TO ANSWER THE QUESTIONS\n",
        "\n"
      ]
    },
    {
      "cell_type": "code",
      "execution_count": null,
      "metadata": {
        "id": "0HrSFsr2AwW4",
        "colab": {
          "base_uri": "https://localhost:8080/",
          "height": 250
        },
        "outputId": "3d134c19-58f3-4868-ee56-23b8342bd983"
      },
      "outputs": [
        {
          "output_type": "error",
          "ename": "NameError",
          "evalue": "name 'w' is not defined",
          "traceback": [
            "\u001b[0;31m---------------------------------------------------------------------------\u001b[0m",
            "\u001b[0;31mNameError\u001b[0m                                 Traceback (most recent call last)",
            "\u001b[0;32m<ipython-input-38-9ffa00ac9e74>\u001b[0m in \u001b[0;36m<cell line: 7>\u001b[0;34m()\u001b[0m\n\u001b[1;32m      5\u001b[0m \u001b[0;31m#Ground Truth\u001b[0m\u001b[0;34m\u001b[0m\u001b[0;34m\u001b[0m\u001b[0m\n\u001b[1;32m      6\u001b[0m \u001b[0mweights\u001b[0m \u001b[0;34m=\u001b[0m \u001b[0mnp\u001b[0m\u001b[0;34m.\u001b[0m\u001b[0marray\u001b[0m\u001b[0;34m(\u001b[0m\u001b[0;34m[\u001b[0m\u001b[0;36m2\u001b[0m\u001b[0;34m,\u001b[0m\u001b[0;34m-\u001b[0m\u001b[0;36m3\u001b[0m\u001b[0;34m]\u001b[0m\u001b[0;34m)\u001b[0m\u001b[0;34m.\u001b[0m\u001b[0mreshape\u001b[0m\u001b[0;34m(\u001b[0m\u001b[0;34m-\u001b[0m\u001b[0;36m1\u001b[0m\u001b[0;34m,\u001b[0m\u001b[0;36m1\u001b[0m\u001b[0;34m)\u001b[0m\u001b[0;34m\u001b[0m\u001b[0;34m\u001b[0m\u001b[0m\n\u001b[0;32m----> 7\u001b[0;31m \u001b[0my\u001b[0m \u001b[0;34m=\u001b[0m \u001b[0mnp\u001b[0m\u001b[0;34m.\u001b[0m\u001b[0mdot\u001b[0m\u001b[0;34m(\u001b[0m\u001b[0mX\u001b[0m\u001b[0;34m,\u001b[0m\u001b[0mw\u001b[0m\u001b[0;34m)\u001b[0m\u001b[0;34m\u001b[0m\u001b[0;34m\u001b[0m\u001b[0m\n\u001b[0m\u001b[1;32m      8\u001b[0m \u001b[0;34m\u001b[0m\u001b[0m\n\u001b[1;32m      9\u001b[0m \u001b[0;31m#Using the least squares regression method from numpy try to solve for the weights\u001b[0m\u001b[0;34m\u001b[0m\u001b[0;34m\u001b[0m\u001b[0m\n",
            "\u001b[0;31mNameError\u001b[0m: name 'w' is not defined"
          ]
        }
      ],
      "source": [
        "#DO NOT EDIT\n",
        "np.random.seed(0)\n",
        "X = 0.0000002*np.random.normal(size=(20,1)) + 0.34\n",
        "\n",
        "#Ground Truth\n",
        "weights = np.array([2,-3]).reshape(-1,1)\n",
        "y = np.dot(X,weights)\n",
        "\n",
        "solved_weights = []\n",
        "#Using the least squares regression method from numpy try to solve for the weights\n",
        "#and see if it atches the ground truth\n",
        "## YOUR CODE HERE\n",
        "## END\n",
        "\n",
        "if np.allclose(weights, solved_weights):\n",
        "  print(\"Lab 1 Finished!\")\n",
        "else:\n",
        "  print(\"Please check your weights again\")"
      ]
    }
  ],
  "metadata": {
    "colab": {
      "provenance": [],
      "include_colab_link": true
    },
    "kernelspec": {
      "display_name": "Python 3",
      "name": "python3"
    },
    "language_info": {
      "name": "python"
    }
  },
  "nbformat": 4,
  "nbformat_minor": 0
}